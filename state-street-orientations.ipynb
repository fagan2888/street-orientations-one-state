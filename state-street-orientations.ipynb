{
 "cells": [
  {
   "cell_type": "code",
   "execution_count": 1,
   "metadata": {},
   "outputs": [],
   "source": [
    "import geopandas as gpd\n",
    "import matplotlib.pyplot as plt\n",
    "import numpy as np\n",
    "import osmnx as ox\n",
    "import pandas as pd\n",
    "\n",
    "ox.config(log_console=True, use_cache=True)\n",
    "weight_by_length = False"
   ]
  },
  {
   "cell_type": "code",
   "execution_count": 2,
   "metadata": {},
   "outputs": [
    {
     "data": {
      "text/plain": [
       "739"
      ]
     },
     "execution_count": 2,
     "metadata": {},
     "output_type": "execute_result"
    }
   ],
   "source": [
    "df = pd.read_csv('data/ACS_17_5YR_B01003_with_ann.csv', dtype={'Id2':str})\n",
    "df = df.rename(columns={'Estimate; Total':'pop_total'})\n",
    "len(df)"
   ]
  },
  {
   "cell_type": "code",
   "execution_count": 3,
   "metadata": {},
   "outputs": [
    {
     "data": {
      "text/plain": [
       "739"
      ]
     },
     "execution_count": 3,
     "metadata": {},
     "output_type": "execute_result"
    }
   ],
   "source": [
    "gdf = gpd.read_file('data/tl_2018_37_place', dtype={'GEOID':str})\n",
    "len(gdf)"
   ]
  },
  {
   "cell_type": "code",
   "execution_count": 4,
   "metadata": {},
   "outputs": [
    {
     "data": {
      "text/plain": [
       "739"
      ]
     },
     "execution_count": 4,
     "metadata": {},
     "output_type": "execute_result"
    }
   ],
   "source": [
    "places_all = pd.merge(gdf, df, how='inner', left_on='GEOID', right_on='Id2')\n",
    "len(places_all)"
   ]
  },
  {
   "cell_type": "code",
   "execution_count": 5,
   "metadata": {},
   "outputs": [
    {
     "data": {
      "text/plain": [
       "25"
      ]
     },
     "execution_count": 5,
     "metadata": {},
     "output_type": "execute_result"
    }
   ],
   "source": [
    "places = places_all.sort_values('pop_total', ascending=False).head(25).reset_index()[['NAME', 'pop_total', 'geometry']]\n",
    "len(places)"
   ]
  },
  {
   "cell_type": "markdown",
   "metadata": {},
   "source": [
    "## Get the street networks and their edge bearings"
   ]
  },
  {
   "cell_type": "code",
   "execution_count": 6,
   "metadata": {},
   "outputs": [],
   "source": [
    "def reverse_bearing(x):\n",
    "    return x + 180 if x < 180 else x - 180"
   ]
  },
  {
   "cell_type": "code",
   "execution_count": 7,
   "metadata": {},
   "outputs": [],
   "source": [
    "bearings = {}\n",
    "for label, row in places.iterrows():\n",
    "    \n",
    "    geometry = row['geometry']\n",
    "    place = row['NAME']\n",
    "    \n",
    "    # get the graph\n",
    "    G = ox.graph_from_polygon(geometry, network_type='drive')\n",
    "    \n",
    "    # calculate edge bearings\n",
    "    Gu = ox.add_edge_bearings(ox.get_undirected(G))\n",
    "    \n",
    "    # don't weight bearings, just take one value per street segment\n",
    "    b = pd.Series([d['bearing'] for u, v, k, d in Gu.edges(keys=True, data=True)])\n",
    "    bearings[place] = pd.concat([b, b.map(reverse_bearing)]).reset_index(drop='True')"
   ]
  },
  {
   "cell_type": "markdown",
   "metadata": {},
   "source": [
    "## Visualize it"
   ]
  },
  {
   "cell_type": "code",
   "execution_count": 8,
   "metadata": {},
   "outputs": [],
   "source": [
    "def count_and_merge(n, bearings):\n",
    "    # make twice as many bins as desired, then merge them in pairs\n",
    "    # prevents bin-edge effects around common values like 0° and 90°\n",
    "    n = n * 2\n",
    "    bins = np.arange(n + 1) * 360 / n\n",
    "    count, _ = np.histogram(bearings, bins=bins)\n",
    "    \n",
    "    # move the last bin to the front, so eg 0.01° and 359.99° will be binned together\n",
    "    count = np.roll(count, 1)\n",
    "    return count[::2] + count[1::2]"
   ]
  },
  {
   "cell_type": "code",
   "execution_count": 9,
   "metadata": {},
   "outputs": [],
   "source": [
    "# function to draw a polar histogram for a set of edge bearings\n",
    "def polar_plot(ax, bearings, n=36, title=''):\n",
    "\n",
    "    bins = np.arange(n + 1) * 360 / n\n",
    "    count = count_and_merge(n, bearings)\n",
    "    _, division = np.histogram(bearings, bins=bins)\n",
    "    frequency = count / count.sum()\n",
    "    division = division[0:-1]\n",
    "    width =  2 * np.pi / n\n",
    "\n",
    "    ax.set_theta_zero_location('N')\n",
    "    ax.set_theta_direction('clockwise')\n",
    "\n",
    "    x = division * np.pi / 180\n",
    "    bars = ax.bar(x, height=frequency, width=width, align='center', bottom=0, zorder=2,\n",
    "                  color='#003366', edgecolor='k', linewidth=0.5, alpha=0.7)\n",
    "    \n",
    "    ax.set_ylim(top=frequency.max())\n",
    "    \n",
    "    title_font = {'family':'Arial', 'size':24, 'weight':'bold'}\n",
    "    xtick_font = {'family':'Arial', 'size':10, 'weight':'bold', 'alpha':1.0, 'zorder':3}\n",
    "    ytick_font = {'family':'Arial', 'size': 9, 'weight':'bold', 'alpha':0.2, 'zorder':3}\n",
    "    \n",
    "    ax.set_title(title.upper(), y=1.05, fontdict=title_font)\n",
    "    \n",
    "    ax.set_yticks(np.linspace(0, max(ax.get_ylim()), 5))\n",
    "    yticklabels = ['{:.2f}'.format(y) for y in ax.get_yticks()]\n",
    "    yticklabels[0] = ''\n",
    "    ax.set_yticklabels(labels=yticklabels, fontdict=ytick_font)\n",
    "    \n",
    "    xticklabels = ['N', '', 'E', '', 'S', '', 'W', '']\n",
    "    ax.set_xticklabels(labels=xticklabels, fontdict=xtick_font)\n",
    "    ax.tick_params(axis='x', which='major', pad=-2)"
   ]
  },
  {
   "cell_type": "code",
   "execution_count": 11,
   "metadata": {},
   "outputs": [],
   "source": [
    "# create figure and axes\n",
    "n = len(places)\n",
    "ncols = int(np.ceil(np.sqrt(n)))\n",
    "nrows = int(np.ceil(n / ncols))\n",
    "figsize = (ncols * 5, nrows * 5)\n",
    "fig, axes = plt.subplots(nrows, ncols, figsize=figsize, subplot_kw={'projection':'polar'})\n",
    "\n",
    "# plot each city's polar histogram\n",
    "for ax, place in zip(axes.flat, places['NAME'].sort_values().values):\n",
    "    polar_plot(ax, bearings[place].dropna(), title=place)\n",
    "\n",
    "# add super title and save full image\n",
    "suptitle_font = {'family':'Arial', 'fontsize':60, 'fontweight':'normal', 'y':1.07}\n",
    "fig.suptitle('City Street Network Orientation', **suptitle_font)\n",
    "fig.tight_layout()\n",
    "fig.subplots_adjust(hspace=0.35)\n",
    "fig.savefig('street-orientations.png', dpi=120, bbox_inches='tight')\n",
    "plt.close()"
   ]
  },
  {
   "cell_type": "code",
   "execution_count": 12,
   "metadata": {},
   "outputs": [
    {
     "data": {
      "text/html": [
       "<div>\n",
       "<style scoped>\n",
       "    .dataframe tbody tr th:only-of-type {\n",
       "        vertical-align: middle;\n",
       "    }\n",
       "\n",
       "    .dataframe tbody tr th {\n",
       "        vertical-align: top;\n",
       "    }\n",
       "\n",
       "    .dataframe thead th {\n",
       "        text-align: right;\n",
       "    }\n",
       "</style>\n",
       "<table border=\"1\" class=\"dataframe\">\n",
       "  <thead>\n",
       "    <tr style=\"text-align: right;\">\n",
       "      <th></th>\n",
       "      <th>NAME</th>\n",
       "      <th>pop_total</th>\n",
       "      <th>geometry</th>\n",
       "    </tr>\n",
       "  </thead>\n",
       "  <tbody>\n",
       "    <tr>\n",
       "      <th>0</th>\n",
       "      <td>Charlotte</td>\n",
       "      <td>826060</td>\n",
       "      <td>POLYGON ((-81.00953899999999 35.15149299999999...</td>\n",
       "    </tr>\n",
       "    <tr>\n",
       "      <th>1</th>\n",
       "      <td>Raleigh</td>\n",
       "      <td>449477</td>\n",
       "      <td>(POLYGON ((-78.685496 35.742721, -78.685468 35...</td>\n",
       "    </tr>\n",
       "    <tr>\n",
       "      <th>2</th>\n",
       "      <td>Greensboro</td>\n",
       "      <td>284816</td>\n",
       "      <td>(POLYGON ((-79.627657 36.056352, -79.626458 36...</td>\n",
       "    </tr>\n",
       "    <tr>\n",
       "      <th>3</th>\n",
       "      <td>Durham</td>\n",
       "      <td>257232</td>\n",
       "      <td>(POLYGON ((-78.767985 35.923513, -78.767964999...</td>\n",
       "    </tr>\n",
       "    <tr>\n",
       "      <th>4</th>\n",
       "      <td>Winston-Salem</td>\n",
       "      <td>240193</td>\n",
       "      <td>(POLYGON ((-80.29413099999999 36.006652, -80.2...</td>\n",
       "    </tr>\n",
       "    <tr>\n",
       "      <th>5</th>\n",
       "      <td>Fayetteville</td>\n",
       "      <td>210324</td>\n",
       "      <td>(POLYGON ((-78.778561 35.040711, -78.778471999...</td>\n",
       "    </tr>\n",
       "    <tr>\n",
       "      <th>6</th>\n",
       "      <td>Cary</td>\n",
       "      <td>159715</td>\n",
       "      <td>(POLYGON ((-78.741929 35.73363, -78.741271 35....</td>\n",
       "    </tr>\n",
       "    <tr>\n",
       "      <th>7</th>\n",
       "      <td>Wilmington</td>\n",
       "      <td>115261</td>\n",
       "      <td>(POLYGON ((-77.80510000000001 34.286427, -77.8...</td>\n",
       "    </tr>\n",
       "    <tr>\n",
       "      <th>8</th>\n",
       "      <td>High Point</td>\n",
       "      <td>109849</td>\n",
       "      <td>(POLYGON ((-79.924403 35.96845, -79.922966 35....</td>\n",
       "    </tr>\n",
       "    <tr>\n",
       "      <th>9</th>\n",
       "      <td>Greenville</td>\n",
       "      <td>90347</td>\n",
       "      <td>(POLYGON ((-77.31837999999999 35.511695, -77.3...</td>\n",
       "    </tr>\n",
       "    <tr>\n",
       "      <th>10</th>\n",
       "      <td>Asheville</td>\n",
       "      <td>89318</td>\n",
       "      <td>(POLYGON ((-82.471256 35.551819, -82.471216 35...</td>\n",
       "    </tr>\n",
       "    <tr>\n",
       "      <th>11</th>\n",
       "      <td>Concord</td>\n",
       "      <td>87607</td>\n",
       "      <td>(POLYGON ((-80.493594 35.388969, -80.492671 35...</td>\n",
       "    </tr>\n",
       "    <tr>\n",
       "      <th>12</th>\n",
       "      <td>Gastonia</td>\n",
       "      <td>74381</td>\n",
       "      <td>(POLYGON ((-81.12481199999999 35.173277, -81.1...</td>\n",
       "    </tr>\n",
       "    <tr>\n",
       "      <th>13</th>\n",
       "      <td>Jacksonville</td>\n",
       "      <td>73661</td>\n",
       "      <td>(POLYGON ((-77.32033299999999 34.722052, -77.3...</td>\n",
       "    </tr>\n",
       "    <tr>\n",
       "      <th>14</th>\n",
       "      <td>Chapel Hill</td>\n",
       "      <td>59234</td>\n",
       "      <td>POLYGON ((-79.08313699999999 35.947252, -79.08...</td>\n",
       "    </tr>\n",
       "    <tr>\n",
       "      <th>15</th>\n",
       "      <td>Rocky Mount</td>\n",
       "      <td>55373</td>\n",
       "      <td>(POLYGON ((-77.76507699999999 35.918318, -77.7...</td>\n",
       "    </tr>\n",
       "    <tr>\n",
       "      <th>16</th>\n",
       "      <td>Huntersville</td>\n",
       "      <td>53302</td>\n",
       "      <td>(POLYGON ((-80.781774 35.390409, -80.780728999...</td>\n",
       "    </tr>\n",
       "    <tr>\n",
       "      <th>17</th>\n",
       "      <td>Burlington</td>\n",
       "      <td>52813</td>\n",
       "      <td>(POLYGON ((-79.44489399999999 36.049371, -79.4...</td>\n",
       "    </tr>\n",
       "    <tr>\n",
       "      <th>18</th>\n",
       "      <td>Wilson</td>\n",
       "      <td>49237</td>\n",
       "      <td>(POLYGON ((-77.855761 35.672917, -77.850526 35...</td>\n",
       "    </tr>\n",
       "    <tr>\n",
       "      <th>19</th>\n",
       "      <td>Kannapolis</td>\n",
       "      <td>46498</td>\n",
       "      <td>(POLYGON ((-80.549561 35.497147, -80.5493 35.4...</td>\n",
       "    </tr>\n",
       "    <tr>\n",
       "      <th>20</th>\n",
       "      <td>Apex</td>\n",
       "      <td>45899</td>\n",
       "      <td>(POLYGON ((-78.81272299999999 35.714596, -78.8...</td>\n",
       "    </tr>\n",
       "    <tr>\n",
       "      <th>21</th>\n",
       "      <td>Hickory</td>\n",
       "      <td>40157</td>\n",
       "      <td>(POLYGON ((-81.246312 35.803302, -81.246288999...</td>\n",
       "    </tr>\n",
       "    <tr>\n",
       "      <th>22</th>\n",
       "      <td>Wake Forest</td>\n",
       "      <td>38473</td>\n",
       "      <td>(POLYGON ((-78.51124299999999 36.001024, -78.5...</td>\n",
       "    </tr>\n",
       "    <tr>\n",
       "      <th>23</th>\n",
       "      <td>Indian Trail</td>\n",
       "      <td>37191</td>\n",
       "      <td>(POLYGON ((-80.60027599999999 35.084582, -80.5...</td>\n",
       "    </tr>\n",
       "    <tr>\n",
       "      <th>24</th>\n",
       "      <td>Mooresville</td>\n",
       "      <td>36577</td>\n",
       "      <td>(POLYGON ((-80.777275 35.595345, -80.777176 35...</td>\n",
       "    </tr>\n",
       "  </tbody>\n",
       "</table>\n",
       "</div>"
      ],
      "text/plain": [
       "             NAME  pop_total  \\\n",
       "0       Charlotte     826060   \n",
       "1         Raleigh     449477   \n",
       "2      Greensboro     284816   \n",
       "3          Durham     257232   \n",
       "4   Winston-Salem     240193   \n",
       "5    Fayetteville     210324   \n",
       "6            Cary     159715   \n",
       "7      Wilmington     115261   \n",
       "8      High Point     109849   \n",
       "9      Greenville      90347   \n",
       "10      Asheville      89318   \n",
       "11        Concord      87607   \n",
       "12       Gastonia      74381   \n",
       "13   Jacksonville      73661   \n",
       "14    Chapel Hill      59234   \n",
       "15    Rocky Mount      55373   \n",
       "16   Huntersville      53302   \n",
       "17     Burlington      52813   \n",
       "18         Wilson      49237   \n",
       "19     Kannapolis      46498   \n",
       "20           Apex      45899   \n",
       "21        Hickory      40157   \n",
       "22    Wake Forest      38473   \n",
       "23   Indian Trail      37191   \n",
       "24    Mooresville      36577   \n",
       "\n",
       "                                             geometry  \n",
       "0   POLYGON ((-81.00953899999999 35.15149299999999...  \n",
       "1   (POLYGON ((-78.685496 35.742721, -78.685468 35...  \n",
       "2   (POLYGON ((-79.627657 36.056352, -79.626458 36...  \n",
       "3   (POLYGON ((-78.767985 35.923513, -78.767964999...  \n",
       "4   (POLYGON ((-80.29413099999999 36.006652, -80.2...  \n",
       "5   (POLYGON ((-78.778561 35.040711, -78.778471999...  \n",
       "6   (POLYGON ((-78.741929 35.73363, -78.741271 35....  \n",
       "7   (POLYGON ((-77.80510000000001 34.286427, -77.8...  \n",
       "8   (POLYGON ((-79.924403 35.96845, -79.922966 35....  \n",
       "9   (POLYGON ((-77.31837999999999 35.511695, -77.3...  \n",
       "10  (POLYGON ((-82.471256 35.551819, -82.471216 35...  \n",
       "11  (POLYGON ((-80.493594 35.388969, -80.492671 35...  \n",
       "12  (POLYGON ((-81.12481199999999 35.173277, -81.1...  \n",
       "13  (POLYGON ((-77.32033299999999 34.722052, -77.3...  \n",
       "14  POLYGON ((-79.08313699999999 35.947252, -79.08...  \n",
       "15  (POLYGON ((-77.76507699999999 35.918318, -77.7...  \n",
       "16  (POLYGON ((-80.781774 35.390409, -80.780728999...  \n",
       "17  (POLYGON ((-79.44489399999999 36.049371, -79.4...  \n",
       "18  (POLYGON ((-77.855761 35.672917, -77.850526 35...  \n",
       "19  (POLYGON ((-80.549561 35.497147, -80.5493 35.4...  \n",
       "20  (POLYGON ((-78.81272299999999 35.714596, -78.8...  \n",
       "21  (POLYGON ((-81.246312 35.803302, -81.246288999...  \n",
       "22  (POLYGON ((-78.51124299999999 36.001024, -78.5...  \n",
       "23  (POLYGON ((-80.60027599999999 35.084582, -80.5...  \n",
       "24  (POLYGON ((-80.777275 35.595345, -80.777176 35...  "
      ]
     },
     "execution_count": 12,
     "metadata": {},
     "output_type": "execute_result"
    }
   ],
   "source": [
    "places"
   ]
  },
  {
   "cell_type": "code",
   "execution_count": null,
   "metadata": {},
   "outputs": [],
   "source": []
  }
 ],
 "metadata": {
  "kernelspec": {
   "display_name": "Python 3",
   "language": "python",
   "name": "python3"
  },
  "language_info": {
   "codemirror_mode": {
    "name": "ipython",
    "version": 3
   },
   "file_extension": ".py",
   "mimetype": "text/x-python",
   "name": "python",
   "nbconvert_exporter": "python",
   "pygments_lexer": "ipython3",
   "version": "3.7.1"
  }
 },
 "nbformat": 4,
 "nbformat_minor": 2
}
